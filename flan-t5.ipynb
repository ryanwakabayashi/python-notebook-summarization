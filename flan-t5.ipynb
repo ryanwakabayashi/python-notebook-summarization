{
 "cells": [
  {
   "cell_type": "code",
   "execution_count": 1,
   "id": "initial_id",
   "metadata": {
    "collapsed": true,
    "ExecuteTime": {
     "end_time": "2024-04-26T13:11:42.251649600Z",
     "start_time": "2024-04-26T13:11:29.524017600Z"
    }
   },
   "outputs": [
    {
     "name": "stdout",
     "output_type": "stream",
     "text": [
      "Microsoft Windows [Version 10.0.22631.3527]\r\n",
      "(c) Microsoft Corporation. All rights reserved.\r\n",
      "\r\n",
      "(llama3-test) C:\\Users\\ryanw\\PycharmProjects\\llama3-test>pip install nltk\n",
      "Requirement already satisfied: nltk in c:\\users\\ryanw\\anaconda3\\envs\\llama3-test\\lib\\site-packages (3.8.1)\r\n",
      "Requirement already satisfied: click in c:\\users\\ryanw\\anaconda3\\envs\\llama3-test\\lib\\site-packages (from nltk) (8.1.7)\r\n",
      "Requirement already satisfied: joblib in c:\\users\\ryanw\\anaconda3\\envs\\llama3-test\\lib\\site-packages (from nltk) (1.4.0)\r\n",
      "Requirement already satisfied: regex>=2021.8.3 in c:\\users\\ryanw\\anaconda3\\envs\\llama3-test\\lib\\site-packages (from nltk) (2024.4.16)\r\n",
      "Requirement already satisfied: tqdm in c:\\users\\ryanw\\anaconda3\\envs\\llama3-test\\lib\\site-packages (from nltk) (4.66.2)\r\n",
      "Requirement already satisfied: colorama in c:\\users\\ryanw\\anaconda3\\envs\\llama3-test\\lib\\site-packages (from click->nltk) (0.4.6)\r\n",
      "\r\n",
      "(llama3-test) C:\\Users\\ryanw\\PycharmProjects\\llama3-test>pip install datasets\n",
      "Requirement already satisfied: datasets in c:\\users\\ryanw\\anaconda3\\envs\\llama3-test\\lib\\site-packages (2.19.0)\r\n",
      "Requirement already satisfied: filelock in c:\\users\\ryanw\\anaconda3\\envs\\llama3-test\\lib\\site-packages (from datasets) (3.9.0)\r\n",
      "Requirement already satisfied: numpy>=1.17 in c:\\users\\ryanw\\anaconda3\\envs\\llama3-test\\lib\\site-packages (from datasets) (1.26.3)\r\n",
      "Requirement already satisfied: pyarrow>=12.0.0 in c:\\users\\ryanw\\anaconda3\\envs\\llama3-test\\lib\\site-packages (from datasets) (16.0.0)\r\n",
      "Requirement already satisfied: pyarrow-hotfix in c:\\users\\ryanw\\anaconda3\\envs\\llama3-test\\lib\\site-packages (from datasets) (0.6)\r\n",
      "Requirement already satisfied: dill<0.3.9,>=0.3.0 in c:\\users\\ryanw\\anaconda3\\envs\\llama3-test\\lib\\site-packages (from datasets) (0.3.8)\r\n",
      "Requirement already satisfied: pandas in c:\\users\\ryanw\\anaconda3\\envs\\llama3-test\\lib\\site-packages (from datasets) (2.2.2)\r\n",
      "Requirement already satisfied: requests>=2.19.0 in c:\\users\\ryanw\\anaconda3\\envs\\llama3-test\\lib\\site-packages (from datasets) (2.31.0)\r\n",
      "Requirement already satisfied: tqdm>=4.62.1 in c:\\users\\ryanw\\anaconda3\\envs\\llama3-test\\lib\\site-packages (from datasets) (4.66.2)\r\n",
      "Requirement already satisfied: xxhash in c:\\users\\ryanw\\anaconda3\\envs\\llama3-test\\lib\\site-packages (from datasets) (3.4.1)\r\n",
      "Requirement already satisfied: multiprocess in c:\\users\\ryanw\\anaconda3\\envs\\llama3-test\\lib\\site-packages (from datasets) (0.70.16)\r\n",
      "Requirement already satisfied: fsspec<=2024.3.1,>=2023.1.0 in c:\\users\\ryanw\\anaconda3\\envs\\llama3-test\\lib\\site-packages (from fsspec[http]<=2024.3.1,>=2023.1.0->datasets) (2024.3.1)\r\n",
      "Requirement already satisfied: aiohttp in c:\\users\\ryanw\\anaconda3\\envs\\llama3-test\\lib\\site-packages (from datasets) (3.9.5)\r\n",
      "Requirement already satisfied: huggingface-hub>=0.21.2 in c:\\users\\ryanw\\anaconda3\\envs\\llama3-test\\lib\\site-packages (from datasets) (0.22.2)\r\n",
      "Requirement already satisfied: packaging in c:\\users\\ryanw\\anaconda3\\envs\\llama3-test\\lib\\site-packages (from datasets) (24.0)\r\n",
      "Requirement already satisfied: pyyaml>=5.1 in c:\\users\\ryanw\\anaconda3\\envs\\llama3-test\\lib\\site-packages (from datasets) (6.0.1)\r\n",
      "Requirement already satisfied: aiosignal>=1.1.2 in c:\\users\\ryanw\\anaconda3\\envs\\llama3-test\\lib\\site-packages (from aiohttp->datasets) (1.3.1)\r\n",
      "Requirement already satisfied: attrs>=17.3.0 in c:\\users\\ryanw\\anaconda3\\envs\\llama3-test\\lib\\site-packages (from aiohttp->datasets) (23.2.0)\r\n",
      "Requirement already satisfied: frozenlist>=1.1.1 in c:\\users\\ryanw\\anaconda3\\envs\\llama3-test\\lib\\site-packages (from aiohttp->datasets) (1.4.1)\r\n",
      "Requirement already satisfied: multidict<7.0,>=4.5 in c:\\users\\ryanw\\anaconda3\\envs\\llama3-test\\lib\\site-packages (from aiohttp->datasets) (6.0.5)\r\n",
      "Requirement already satisfied: yarl<2.0,>=1.0 in c:\\users\\ryanw\\anaconda3\\envs\\llama3-test\\lib\\site-packages (from aiohttp->datasets) (1.9.4)\r\n",
      "Requirement already satisfied: typing-extensions>=3.7.4.3 in c:\\users\\ryanw\\anaconda3\\envs\\llama3-test\\lib\\site-packages (from huggingface-hub>=0.21.2->datasets) (4.8.0)\r\n",
      "Requirement already satisfied: charset-normalizer<4,>=2 in c:\\users\\ryanw\\anaconda3\\envs\\llama3-test\\lib\\site-packages (from requests>=2.19.0->datasets) (3.3.2)\r\n",
      "Requirement already satisfied: idna<4,>=2.5 in c:\\users\\ryanw\\anaconda3\\envs\\llama3-test\\lib\\site-packages (from requests>=2.19.0->datasets) (3.7)\r\n",
      "Requirement already satisfied: urllib3<3,>=1.21.1 in c:\\users\\ryanw\\anaconda3\\envs\\llama3-test\\lib\\site-packages (from requests>=2.19.0->datasets) (2.2.1)\r\n",
      "Requirement already satisfied: certifi>=2017.4.17 in c:\\users\\ryanw\\anaconda3\\envs\\llama3-test\\lib\\site-packages (from requests>=2.19.0->datasets) (2024.2.2)\r\n",
      "Requirement already satisfied: colorama in c:\\users\\ryanw\\anaconda3\\envs\\llama3-test\\lib\\site-packages (from tqdm>=4.62.1->datasets) (0.4.6)\r\n",
      "Requirement already satisfied: python-dateutil>=2.8.2 in c:\\users\\ryanw\\anaconda3\\envs\\llama3-test\\lib\\site-packages (from pandas->datasets) (2.9.0.post0)\r\n",
      "Requirement already satisfied: pytz>=2020.1 in c:\\users\\ryanw\\anaconda3\\envs\\llama3-test\\lib\\site-packages (from pandas->datasets) (2024.1)\r\n",
      "Requirement already satisfied: tzdata>=2022.7 in c:\\users\\ryanw\\anaconda3\\envs\\llama3-test\\lib\\site-packages (from pandas->datasets) (2024.1)\r\n",
      "Requirement already satisfied: six>=1.5 in c:\\users\\ryanw\\anaconda3\\envs\\llama3-test\\lib\\site-packages (from python-dateutil>=2.8.2->pandas->datasets) (1.16.0)\r\n",
      "\r\n",
      "(llama3-test) C:\\Users\\ryanw\\PycharmProjects\\llama3-test>pip install tokenizers\n",
      "Requirement already satisfied: tokenizers in c:\\users\\ryanw\\anaconda3\\envs\\llama3-test\\lib\\site-packages (0.19.1)\r\n",
      "Requirement already satisfied: huggingface-hub<1.0,>=0.16.4 in c:\\users\\ryanw\\anaconda3\\envs\\llama3-test\\lib\\site-packages (from tokenizers) (0.22.2)\r\n",
      "Requirement already satisfied: filelock in c:\\users\\ryanw\\anaconda3\\envs\\llama3-test\\lib\\site-packages (from huggingface-hub<1.0,>=0.16.4->tokenizers) (3.9.0)\r\n",
      "Requirement already satisfied: fsspec>=2023.5.0 in c:\\users\\ryanw\\anaconda3\\envs\\llama3-test\\lib\\site-packages (from huggingface-hub<1.0,>=0.16.4->tokenizers) (2024.3.1)\r\n",
      "Requirement already satisfied: packaging>=20.9 in c:\\users\\ryanw\\anaconda3\\envs\\llama3-test\\lib\\site-packages (from huggingface-hub<1.0,>=0.16.4->tokenizers) (24.0)\r\n",
      "Requirement already satisfied: pyyaml>=5.1 in c:\\users\\ryanw\\anaconda3\\envs\\llama3-test\\lib\\site-packages (from huggingface-hub<1.0,>=0.16.4->tokenizers) (6.0.1)\r\n",
      "Requirement already satisfied: requests in c:\\users\\ryanw\\anaconda3\\envs\\llama3-test\\lib\\site-packages (from huggingface-hub<1.0,>=0.16.4->tokenizers) (2.31.0)\r\n",
      "Requirement already satisfied: tqdm>=4.42.1 in c:\\users\\ryanw\\anaconda3\\envs\\llama3-test\\lib\\site-packages (from huggingface-hub<1.0,>=0.16.4->tokenizers) (4.66.2)\r\n",
      "Requirement already satisfied: typing-extensions>=3.7.4.3 in c:\\users\\ryanw\\anaconda3\\envs\\llama3-test\\lib\\site-packages (from huggingface-hub<1.0,>=0.16.4->tokenizers) (4.8.0)\r\n",
      "Requirement already satisfied: colorama in c:\\users\\ryanw\\anaconda3\\envs\\llama3-test\\lib\\site-packages (from tqdm>=4.42.1->huggingface-hub<1.0,>=0.16.4->tokenizers) (0.4.6)\r\n",
      "Requirement already satisfied: charset-normalizer<4,>=2 in c:\\users\\ryanw\\anaconda3\\envs\\llama3-test\\lib\\site-packages (from requests->huggingface-hub<1.0,>=0.16.4->tokenizers) (3.3.2)\r\n",
      "Requirement already satisfied: idna<4,>=2.5 in c:\\users\\ryanw\\anaconda3\\envs\\llama3-test\\lib\\site-packages (from requests->huggingface-hub<1.0,>=0.16.4->tokenizers) (3.7)\r\n",
      "Requirement already satisfied: urllib3<3,>=1.21.1 in c:\\users\\ryanw\\anaconda3\\envs\\llama3-test\\lib\\site-packages (from requests->huggingface-hub<1.0,>=0.16.4->tokenizers) (2.2.1)\r\n",
      "Requirement already satisfied: certifi>=2017.4.17 in c:\\users\\ryanw\\anaconda3\\envs\\llama3-test\\lib\\site-packages (from requests->huggingface-hub<1.0,>=0.16.4->tokenizers) (2024.2.2)\r\n",
      "\r\n",
      "(llama3-test) C:\\Users\\ryanw\\PycharmProjects\\llama3-test>pip install evaluate\n",
      "Requirement already satisfied: evaluate in c:\\users\\ryanw\\anaconda3\\envs\\llama3-test\\lib\\site-packages (0.4.1)\r\n",
      "Requirement already satisfied: datasets>=2.0.0 in c:\\users\\ryanw\\anaconda3\\envs\\llama3-test\\lib\\site-packages (from evaluate) (2.19.0)\r\n",
      "Requirement already satisfied: numpy>=1.17 in c:\\users\\ryanw\\anaconda3\\envs\\llama3-test\\lib\\site-packages (from evaluate) (1.26.3)\r\n",
      "Requirement already satisfied: dill in c:\\users\\ryanw\\anaconda3\\envs\\llama3-test\\lib\\site-packages (from evaluate) (0.3.8)\r\n",
      "Requirement already satisfied: pandas in c:\\users\\ryanw\\anaconda3\\envs\\llama3-test\\lib\\site-packages (from evaluate) (2.2.2)\r\n",
      "Requirement already satisfied: requests>=2.19.0 in c:\\users\\ryanw\\anaconda3\\envs\\llama3-test\\lib\\site-packages (from evaluate) (2.31.0)\r\n",
      "Requirement already satisfied: tqdm>=4.62.1 in c:\\users\\ryanw\\anaconda3\\envs\\llama3-test\\lib\\site-packages (from evaluate) (4.66.2)\r\n",
      "Requirement already satisfied: xxhash in c:\\users\\ryanw\\anaconda3\\envs\\llama3-test\\lib\\site-packages (from evaluate) (3.4.1)\r\n",
      "Requirement already satisfied: multiprocess in c:\\users\\ryanw\\anaconda3\\envs\\llama3-test\\lib\\site-packages (from evaluate) (0.70.16)\r\n",
      "Requirement already satisfied: fsspec>=2021.05.0 in c:\\users\\ryanw\\anaconda3\\envs\\llama3-test\\lib\\site-packages (from fsspec[http]>=2021.05.0->evaluate) (2024.3.1)\r\n",
      "Requirement already satisfied: huggingface-hub>=0.7.0 in c:\\users\\ryanw\\anaconda3\\envs\\llama3-test\\lib\\site-packages (from evaluate) (0.22.2)\r\n",
      "Requirement already satisfied: packaging in c:\\users\\ryanw\\anaconda3\\envs\\llama3-test\\lib\\site-packages (from evaluate) (24.0)\r\n",
      "Requirement already satisfied: responses<0.19 in c:\\users\\ryanw\\anaconda3\\envs\\llama3-test\\lib\\site-packages (from evaluate) (0.18.0)\r\n",
      "Requirement already satisfied: filelock in c:\\users\\ryanw\\anaconda3\\envs\\llama3-test\\lib\\site-packages (from datasets>=2.0.0->evaluate) (3.9.0)\r\n",
      "Requirement already satisfied: pyarrow>=12.0.0 in c:\\users\\ryanw\\anaconda3\\envs\\llama3-test\\lib\\site-packages (from datasets>=2.0.0->evaluate) (16.0.0)\r\n",
      "Requirement already satisfied: pyarrow-hotfix in c:\\users\\ryanw\\anaconda3\\envs\\llama3-test\\lib\\site-packages (from datasets>=2.0.0->evaluate) (0.6)\r\n",
      "Requirement already satisfied: aiohttp in c:\\users\\ryanw\\anaconda3\\envs\\llama3-test\\lib\\site-packages (from datasets>=2.0.0->evaluate) (3.9.5)\r\n",
      "Requirement already satisfied: pyyaml>=5.1 in c:\\users\\ryanw\\anaconda3\\envs\\llama3-test\\lib\\site-packages (from datasets>=2.0.0->evaluate) (6.0.1)\r\n",
      "Requirement already satisfied: typing-extensions>=3.7.4.3 in c:\\users\\ryanw\\anaconda3\\envs\\llama3-test\\lib\\site-packages (from huggingface-hub>=0.7.0->evaluate) (4.8.0)\r\n",
      "Requirement already satisfied: charset-normalizer<4,>=2 in c:\\users\\ryanw\\anaconda3\\envs\\llama3-test\\lib\\site-packages (from requests>=2.19.0->evaluate) (3.3.2)\r\n",
      "Requirement already satisfied: idna<4,>=2.5 in c:\\users\\ryanw\\anaconda3\\envs\\llama3-test\\lib\\site-packages (from requests>=2.19.0->evaluate) (3.7)\r\n",
      "Requirement already satisfied: urllib3<3,>=1.21.1 in c:\\users\\ryanw\\anaconda3\\envs\\llama3-test\\lib\\site-packages (from requests>=2.19.0->evaluate) (2.2.1)\r\n",
      "Requirement already satisfied: certifi>=2017.4.17 in c:\\users\\ryanw\\anaconda3\\envs\\llama3-test\\lib\\site-packages (from requests>=2.19.0->evaluate) (2024.2.2)\r\n",
      "Requirement already satisfied: colorama in c:\\users\\ryanw\\anaconda3\\envs\\llama3-test\\lib\\site-packages (from tqdm>=4.62.1->evaluate) (0.4.6)\r\n",
      "Requirement already satisfied: python-dateutil>=2.8.2 in c:\\users\\ryanw\\anaconda3\\envs\\llama3-test\\lib\\site-packages (from pandas->evaluate) (2.9.0.post0)\r\n",
      "Requirement already satisfied: pytz>=2020.1 in c:\\users\\ryanw\\anaconda3\\envs\\llama3-test\\lib\\site-packages (from pandas->evaluate) (2024.1)\r\n",
      "Requirement already satisfied: tzdata>=2022.7 in c:\\users\\ryanw\\anaconda3\\envs\\llama3-test\\lib\\site-packages (from pandas->evaluate) (2024.1)\r\n",
      "Requirement already satisfied: aiosignal>=1.1.2 in c:\\users\\ryanw\\anaconda3\\envs\\llama3-test\\lib\\site-packages (from aiohttp->datasets>=2.0.0->evaluate) (1.3.1)\r\n",
      "Requirement already satisfied: attrs>=17.3.0 in c:\\users\\ryanw\\anaconda3\\envs\\llama3-test\\lib\\site-packages (from aiohttp->datasets>=2.0.0->evaluate) (23.2.0)\r\n",
      "Requirement already satisfied: frozenlist>=1.1.1 in c:\\users\\ryanw\\anaconda3\\envs\\llama3-test\\lib\\site-packages (from aiohttp->datasets>=2.0.0->evaluate) (1.4.1)\r\n",
      "Requirement already satisfied: multidict<7.0,>=4.5 in c:\\users\\ryanw\\anaconda3\\envs\\llama3-test\\lib\\site-packages (from aiohttp->datasets>=2.0.0->evaluate) (6.0.5)\r\n",
      "Requirement already satisfied: yarl<2.0,>=1.0 in c:\\users\\ryanw\\anaconda3\\envs\\llama3-test\\lib\\site-packages (from aiohttp->datasets>=2.0.0->evaluate) (1.9.4)\r\n",
      "Requirement already satisfied: six>=1.5 in c:\\users\\ryanw\\anaconda3\\envs\\llama3-test\\lib\\site-packages (from python-dateutil>=2.8.2->pandas->evaluate) (1.16.0)\r\n",
      "\r\n",
      "(llama3-test) C:\\Users\\ryanw\\PycharmProjects\\llama3-test>pip install rouge_score\n",
      "Requirement already satisfied: rouge_score in c:\\users\\ryanw\\anaconda3\\envs\\llama3-test\\lib\\site-packages (0.1.2)\r\n",
      "Requirement already satisfied: absl-py in c:\\users\\ryanw\\anaconda3\\envs\\llama3-test\\lib\\site-packages (from rouge_score) (2.1.0)\r\n",
      "Requirement already satisfied: nltk in c:\\users\\ryanw\\anaconda3\\envs\\llama3-test\\lib\\site-packages (from rouge_score) (3.8.1)\r\n",
      "Requirement already satisfied: numpy in c:\\users\\ryanw\\anaconda3\\envs\\llama3-test\\lib\\site-packages (from rouge_score) (1.26.3)\r\n",
      "Requirement already satisfied: six>=1.14.0 in c:\\users\\ryanw\\anaconda3\\envs\\llama3-test\\lib\\site-packages (from rouge_score) (1.16.0)\r\n",
      "Requirement already satisfied: click in c:\\users\\ryanw\\anaconda3\\envs\\llama3-test\\lib\\site-packages (from nltk->rouge_score) (8.1.7)\r\n",
      "Requirement already satisfied: joblib in c:\\users\\ryanw\\anaconda3\\envs\\llama3-test\\lib\\site-packages (from nltk->rouge_score) (1.4.0)\r\n",
      "Requirement already satisfied: regex>=2021.8.3 in c:\\users\\ryanw\\anaconda3\\envs\\llama3-test\\lib\\site-packages (from nltk->rouge_score) (2024.4.16)\r\n",
      "Requirement already satisfied: tqdm in c:\\users\\ryanw\\anaconda3\\envs\\llama3-test\\lib\\site-packages (from nltk->rouge_score) (4.66.2)\r\n",
      "Requirement already satisfied: colorama in c:\\users\\ryanw\\anaconda3\\envs\\llama3-test\\lib\\site-packages (from click->nltk->rouge_score) (0.4.6)\r\n",
      "\r\n",
      "(llama3-test) C:\\Users\\ryanw\\PycharmProjects\\llama3-test>pip install sentencepiece\n",
      "Requirement already satisfied: sentencepiece in c:\\users\\ryanw\\anaconda3\\envs\\llama3-test\\lib\\site-packages (0.2.0)\r\n",
      "\r\n",
      "(llama3-test) C:\\Users\\ryanw\\PycharmProjects\\llama3-test>pip install huggingface_hub\n",
      "Requirement already satisfied: huggingface_hub in c:\\users\\ryanw\\anaconda3\\envs\\llama3-test\\lib\\site-packages (0.22.2)\r\n",
      "Requirement already satisfied: filelock in c:\\users\\ryanw\\anaconda3\\envs\\llama3-test\\lib\\site-packages (from huggingface_hub) (3.9.0)\r\n",
      "Requirement already satisfied: fsspec>=2023.5.0 in c:\\users\\ryanw\\anaconda3\\envs\\llama3-test\\lib\\site-packages (from huggingface_hub) (2024.3.1)\r\n",
      "Requirement already satisfied: packaging>=20.9 in c:\\users\\ryanw\\anaconda3\\envs\\llama3-test\\lib\\site-packages (from huggingface_hub) (24.0)\r\n",
      "Requirement already satisfied: pyyaml>=5.1 in c:\\users\\ryanw\\anaconda3\\envs\\llama3-test\\lib\\site-packages (from huggingface_hub) (6.0.1)\r\n",
      "Requirement already satisfied: requests in c:\\users\\ryanw\\anaconda3\\envs\\llama3-test\\lib\\site-packages (from huggingface_hub) (2.31.0)\r\n",
      "Requirement already satisfied: tqdm>=4.42.1 in c:\\users\\ryanw\\anaconda3\\envs\\llama3-test\\lib\\site-packages (from huggingface_hub) (4.66.2)\r\n",
      "Requirement already satisfied: typing-extensions>=3.7.4.3 in c:\\users\\ryanw\\anaconda3\\envs\\llama3-test\\lib\\site-packages (from huggingface_hub) (4.8.0)\r\n",
      "Requirement already satisfied: colorama in c:\\users\\ryanw\\anaconda3\\envs\\llama3-test\\lib\\site-packages (from tqdm>=4.42.1->huggingface_hub) (0.4.6)\r\n",
      "Requirement already satisfied: charset-normalizer<4,>=2 in c:\\users\\ryanw\\anaconda3\\envs\\llama3-test\\lib\\site-packages (from requests->huggingface_hub) (3.3.2)\r\n",
      "Requirement already satisfied: idna<4,>=2.5 in c:\\users\\ryanw\\anaconda3\\envs\\llama3-test\\lib\\site-packages (from requests->huggingface_hub) (3.7)\r\n",
      "Requirement already satisfied: urllib3<3,>=1.21.1 in c:\\users\\ryanw\\anaconda3\\envs\\llama3-test\\lib\\site-packages (from requests->huggingface_hub) (2.2.1)\r\n",
      "Requirement already satisfied: certifi>=2017.4.17 in c:\\users\\ryanw\\anaconda3\\envs\\llama3-test\\lib\\site-packages (from requests->huggingface_hub) (2024.2.2)\r\n",
      "\r\n",
      "(llama3-test) C:\\Users\\ryanw\\PycharmProjects\\llama3-test>"
     ]
    }
   ],
   "source": [
    "# %%cmd\n",
    "# pip install nltk\n",
    "# pip install datasets\n",
    "# pip install tokenizers\n",
    "# pip install evaluate\n",
    "# pip install rouge_score\n",
    "# pip install sentencepiece\n",
    "# pip install huggingface_hub"
   ]
  },
  {
   "cell_type": "code",
   "outputs": [],
   "source": [
    "import nltk\n",
    "import evaluate\n",
    "import numpy as np\n",
    "from datasets import load_dataset\n",
    "from transformers import T5Tokenizer, DataCollatorForSeq2Seq\n",
    "from transformers import T5ForConditionalGeneration, Seq2SeqTrainingArguments, Seq2SeqTrainer"
   ],
   "metadata": {
    "collapsed": false,
    "ExecuteTime": {
     "end_time": "2024-05-08T12:47:35.084400300Z",
     "start_time": "2024-05-08T12:47:29.515661200Z"
    }
   },
   "id": "f0b33956e53a58aa",
   "execution_count": 2
  },
  {
   "cell_type": "code",
   "outputs": [
    {
     "name": "stderr",
     "output_type": "stream",
     "text": [
      "You are using the default legacy behaviour of the <class 'transformers.models.t5.tokenization_t5.T5Tokenizer'>. This is expected, and simply means that the `legacy` (previous) behavior will be used so nothing changes for you. If you want to use the new behaviour, set `legacy=False`. This should only be set if you understand what it means, and thoroughly read the reason why this was added as explained in https://github.com/huggingface/transformers/pull/24565\n",
      "Special tokens have been added in the vocabulary, make sure the associated word embeddings are fine-tuned or trained.\n"
     ]
    }
   ],
   "source": [
    "# Load the tokenizer, model, and data collator\n",
    "MODEL_NAME = \"google/flan-t5-small\"\n",
    "\n",
    "tokenizer = T5Tokenizer.from_pretrained(MODEL_NAME)\n",
    "model = T5ForConditionalGeneration.from_pretrained(MODEL_NAME)\n",
    "data_collator = DataCollatorForSeq2Seq(tokenizer=tokenizer, model=model)"
   ],
   "metadata": {
    "collapsed": false,
    "ExecuteTime": {
     "end_time": "2024-05-08T12:47:36.169446400Z",
     "start_time": "2024-05-08T12:47:35.086395800Z"
    }
   },
   "id": "420df9260da4abc2",
   "execution_count": 3
  },
  {
   "cell_type": "code",
   "outputs": [],
   "source": [
    "# Acquire the training data from Hugging Face\n",
    "DATA_NAME = \"yahoo_answers_qa\"\n",
    "yahoo_answers_qa = load_dataset(DATA_NAME)"
   ],
   "metadata": {
    "collapsed": false,
    "ExecuteTime": {
     "end_time": "2024-05-08T12:47:38.500768200Z",
     "start_time": "2024-05-08T12:47:36.171688900Z"
    }
   },
   "id": "66efa4edd8dd4b42",
   "execution_count": 4
  },
  {
   "cell_type": "code",
   "outputs": [],
   "source": [
    "yahoo_answers_qa = yahoo_answers_qa[\"train\"].train_test_split(test_size=0.3)\n",
    "# yahoo_answers_qa[\"train\"] = yahoo_answers_qa[\"train\"].select(range(100))\n",
    "# yahoo_answers_qa[\"test\"] = yahoo_answers_qa[\"test\"].select(range(10))\n"
   ],
   "metadata": {
    "collapsed": false,
    "ExecuteTime": {
     "end_time": "2024-05-08T12:47:38.545358100Z",
     "start_time": "2024-05-08T12:47:38.502275400Z"
    }
   },
   "id": "8dec427dc0f3a903",
   "execution_count": 5
  },
  {
   "cell_type": "code",
   "outputs": [
    {
     "data": {
      "text/plain": "DatasetDict({\n    train: Dataset({\n        features: ['id', 'question', 'answer', 'nbestanswers', 'main_category'],\n        num_rows: 61153\n    })\n    test: Dataset({\n        features: ['id', 'question', 'answer', 'nbestanswers', 'main_category'],\n        num_rows: 26209\n    })\n})"
     },
     "execution_count": 6,
     "metadata": {},
     "output_type": "execute_result"
    }
   ],
   "source": [
    "# Check the length of the data and its structure\n",
    "yahoo_answers_qa\n",
    "# 61,153 examples trained in 2 hours over 3 epochs"
   ],
   "metadata": {
    "collapsed": false,
    "ExecuteTime": {
     "end_time": "2024-05-08T12:47:38.545863100Z",
     "start_time": "2024-05-08T12:47:38.544365600Z"
    }
   },
   "id": "9729e13e6ae070c7",
   "execution_count": 6
  },
  {
   "cell_type": "code",
   "outputs": [
    {
     "data": {
      "text/plain": "DatasetDict({\n    train: Dataset({\n        features: ['question', 'answer'],\n        num_rows: 2\n    })\n})"
     },
     "execution_count": 7,
     "metadata": {},
     "output_type": "execute_result"
    }
   ],
   "source": [
    "from datasets import load_dataset\n",
    "yahoo_answers_qa = load_dataset(\"csv\", data_files=\"dataset.csv\")\n",
    "yahoo_answers_qa"
   ],
   "metadata": {
    "collapsed": false,
    "ExecuteTime": {
     "end_time": "2024-05-08T12:47:39.032902400Z",
     "start_time": "2024-05-08T12:47:38.547870500Z"
    }
   },
   "id": "278592e2252bdc79",
   "execution_count": 7
  },
  {
   "cell_type": "code",
   "outputs": [],
   "source": [
    "# We prefix our tasks with \"answer the question\"\n",
    "prefix = \"Please answer this question: \"\n",
    "\n",
    "# Define the preprocessing function\n",
    "\n",
    "def preprocess_function(examples):\n",
    "   \"\"\"Add prefix to the sentences, tokenize the text, and set the labels\"\"\"\n",
    "   # The \"inputs\" are the tokenized answer:\n",
    "   inputs = [prefix + doc for doc in examples[\"question\"]]\n",
    "   model_inputs = tokenizer(inputs, max_length=128, truncation=True)\n",
    "  \n",
    "   # The \"labels\" are the tokenized outputs:\n",
    "   labels = tokenizer(text_target=examples[\"answer\"], \n",
    "                      max_length=512,         \n",
    "                      truncation=True)\n",
    "\n",
    "   model_inputs[\"labels\"] = labels[\"input_ids\"]\n",
    "   return model_inputs"
   ],
   "metadata": {
    "collapsed": false,
    "ExecuteTime": {
     "end_time": "2024-05-08T12:47:39.032902400Z",
     "start_time": "2024-05-08T12:47:39.028639300Z"
    }
   },
   "id": "3a3a4a96a5590b57",
   "execution_count": 8
  },
  {
   "cell_type": "code",
   "outputs": [],
   "source": [
    "# Map the preprocessing function across our dataset\n",
    "tokenized_dataset = yahoo_answers_qa.map(preprocess_function, batched=True)"
   ],
   "metadata": {
    "collapsed": false,
    "ExecuteTime": {
     "end_time": "2024-05-08T12:47:39.056701400Z",
     "start_time": "2024-05-08T12:47:39.031891600Z"
    }
   },
   "id": "1d69c76186285b90",
   "execution_count": 9
  },
  {
   "cell_type": "code",
   "outputs": [
    {
     "data": {
      "text/plain": "DatasetDict({\n    train: Dataset({\n        features: ['question', 'answer', 'input_ids', 'attention_mask', 'labels'],\n        num_rows: 2\n    })\n})"
     },
     "execution_count": 10,
     "metadata": {},
     "output_type": "execute_result"
    }
   ],
   "source": [
    "tokenized_dataset"
   ],
   "metadata": {
    "collapsed": false,
    "ExecuteTime": {
     "end_time": "2024-05-08T12:47:39.062387100Z",
     "start_time": "2024-05-08T12:47:39.056701400Z"
    }
   },
   "id": "c585fb2d6ae2d419",
   "execution_count": 10
  },
  {
   "cell_type": "code",
   "outputs": [
    {
     "data": {
      "text/plain": "[1919, 1]"
     },
     "execution_count": 11,
     "metadata": {},
     "output_type": "execute_result"
    }
   ],
   "source": [
    "tokenized_dataset[\"train\"]['labels'][0]"
   ],
   "metadata": {
    "collapsed": false,
    "ExecuteTime": {
     "end_time": "2024-05-08T12:57:50.515682800Z",
     "start_time": "2024-05-08T12:57:50.508859500Z"
    }
   },
   "id": "2738e3d26488f13d",
   "execution_count": 11
  },
  {
   "cell_type": "code",
   "outputs": [],
   "source": [
    "nltk.download(\"punkt\", quiet=True)\n",
    "metric = evaluate.load(\"rouge\")"
   ],
   "metadata": {
    "collapsed": false,
    "ExecuteTime": {
     "end_time": "2024-04-30T18:34:28.332720600Z",
     "start_time": "2024-04-30T18:34:27.044655Z"
    }
   },
   "id": "63230c1cdfd3cdc4",
   "execution_count": 6
  },
  {
   "cell_type": "code",
   "outputs": [],
   "source": [
    "def compute_metrics(eval_preds):\n",
    "   preds, labels = eval_preds\n",
    "\n",
    "   # decode preds and labels\n",
    "   labels = np.where(labels != -100, labels, tokenizer.pad_token_id)\n",
    "   decoded_preds = tokenizer.batch_decode(preds, skip_special_tokens=True)\n",
    "   decoded_labels = tokenizer.batch_decode(labels, skip_special_tokens=True)\n",
    "\n",
    "   # rougeLSum expects newline after each sentence\n",
    "   decoded_preds = [\"\\n\".join(nltk.sent_tokenize(pred.strip())) for pred in decoded_preds]\n",
    "   decoded_labels = [\"\\n\".join(nltk.sent_tokenize(label.strip())) for label in decoded_labels]\n",
    "\n",
    "   result = metric.compute(predictions=decoded_preds, references=decoded_labels, use_stemmer=True)\n",
    "  \n",
    "   return result"
   ],
   "metadata": {
    "collapsed": false,
    "ExecuteTime": {
     "end_time": "2024-04-30T18:34:29.340954200Z",
     "start_time": "2024-04-30T18:34:29.337949800Z"
    }
   },
   "id": "ac1a9ccd03db0c2d",
   "execution_count": 7
  },
  {
   "cell_type": "code",
   "outputs": [],
   "source": [
    "# Global Parameters\n",
    "L_RATE = 3e-4\n",
    "BATCH_SIZE = 8\n",
    "PER_DEVICE_EVAL_BATCH = 4\n",
    "WEIGHT_DECAY = 0.01\n",
    "SAVE_TOTAL_LIM = 3\n",
    "NUM_EPOCHS = 3\n",
    "\n",
    "# Set up training arguments\n",
    "training_args = Seq2SeqTrainingArguments(\n",
    "   output_dir=\"./results\",\n",
    "   # evaluation_strategy=\"epoch\",\n",
    "   learning_rate=L_RATE,\n",
    "   per_device_train_batch_size=BATCH_SIZE,\n",
    "   # per_device_eval_batch_size=PER_DEVICE_EVAL_BATCH,\n",
    "   weight_decay=WEIGHT_DECAY,\n",
    "   save_total_limit=SAVE_TOTAL_LIM,\n",
    "   num_train_epochs=NUM_EPOCHS,\n",
    "   predict_with_generate=True,\n",
    "   push_to_hub=False\n",
    ")"
   ],
   "metadata": {
    "collapsed": false,
    "ExecuteTime": {
     "end_time": "2024-04-30T18:40:29.711500Z",
     "start_time": "2024-04-30T18:40:29.667241700Z"
    }
   },
   "id": "925e3f4a18f5495f",
   "execution_count": 15
  },
  {
   "cell_type": "code",
   "outputs": [],
   "source": [
    "# trainer = Seq2SeqTrainer(\n",
    "#    model=model,\n",
    "#    args=training_args,\n",
    "#    train_dataset=tokenized_dataset[\"train\"],\n",
    "#    eval_dataset=tokenized_dataset[\"test\"],\n",
    "#    tokenizer=tokenizer,\n",
    "#    data_collator=data_collator,\n",
    "#    compute_metrics=compute_metrics\n",
    "# )\n",
    "\n",
    "# trainer = Seq2SeqTrainer(\n",
    "#    model=model,\n",
    "#    args=training_args,\n",
    "#    train_dataset=tokenized_dataset[\"train\"],\n",
    "#    eval_dataset=tokenized_dataset[\"test\"],\n",
    "#    tokenizer=tokenizer,\n",
    "#    data_collator=data_collator,\n",
    "#    compute_metrics=compute_metrics\n",
    "# )\n",
    "\n",
    "trainer = Seq2SeqTrainer(\n",
    "   model=model,\n",
    "   args=training_args,\n",
    "   train_dataset=tokenized_dataset[\"train\"],\n",
    "   # eval_dataset=tokenized_dataset[\"test\"],\n",
    "   tokenizer=tokenizer,\n",
    "   data_collator=data_collator,\n",
    "   # compute_metrics=compute_metrics\n",
    ")"
   ],
   "metadata": {
    "collapsed": false,
    "ExecuteTime": {
     "end_time": "2024-04-30T18:40:30.439368500Z",
     "start_time": "2024-04-30T18:40:30.430823300Z"
    }
   },
   "id": "e45f00990e936484",
   "execution_count": 16
  },
  {
   "cell_type": "code",
   "outputs": [
    {
     "data": {
      "text/plain": "<IPython.core.display.HTML object>",
      "text/html": "\n    <div>\n      \n      <progress value='2' max='3' style='width:300px; height:20px; vertical-align: middle;'></progress>\n      [2/3 : < :, Epoch 1/3]\n    </div>\n    <table border=\"1\" class=\"dataframe\">\n  <thead>\n <tr style=\"text-align: left;\">\n      <th>Step</th>\n      <th>Training Loss</th>\n    </tr>\n  </thead>\n  <tbody>\n  </tbody>\n</table><p>"
     },
     "metadata": {},
     "output_type": "display_data"
    },
    {
     "data": {
      "text/plain": "TrainOutput(global_step=3, training_loss=0.4493695894877116, metrics={'train_runtime': 0.4602, 'train_samples_per_second': 13.037, 'train_steps_per_second': 6.519, 'total_flos': 37032873984.0, 'train_loss': 0.4493695894877116, 'epoch': 3.0})"
     },
     "execution_count": 17,
     "metadata": {},
     "output_type": "execute_result"
    }
   ],
   "source": [
    "trainer.train()"
   ],
   "metadata": {
    "collapsed": false,
    "ExecuteTime": {
     "end_time": "2024-04-30T18:40:32.093176600Z",
     "start_time": "2024-04-30T18:40:31.585290900Z"
    }
   },
   "id": "55dffac8d02504e0",
   "execution_count": 17
  },
  {
   "cell_type": "code",
   "outputs": [],
   "source": [],
   "metadata": {
    "collapsed": false,
    "ExecuteTime": {
     "end_time": "2024-04-26T15:12:22.398313800Z",
     "start_time": "2024-04-26T15:12:22.395802400Z"
    }
   },
   "id": "60da30f7c9e45289",
   "execution_count": 13
  },
  {
   "cell_type": "code",
   "outputs": [],
   "source": [],
   "metadata": {
    "collapsed": false,
    "ExecuteTime": {
     "end_time": "2024-04-26T15:12:22.400225700Z",
     "start_time": "2024-04-26T15:12:22.398712700Z"
    }
   },
   "id": "c08a9d6d8759c417",
   "execution_count": 13
  },
  {
   "cell_type": "code",
   "outputs": [],
   "source": [],
   "metadata": {
    "collapsed": false,
    "ExecuteTime": {
     "end_time": "2024-04-26T15:12:22.403035400Z",
     "start_time": "2024-04-26T15:12:22.402028Z"
    }
   },
   "id": "c2e5e7fc89f9c88b",
   "execution_count": 13
  },
  {
   "cell_type": "code",
   "outputs": [],
   "source": [],
   "metadata": {
    "collapsed": false,
    "ExecuteTime": {
     "end_time": "2024-04-26T15:12:22.405851Z",
     "start_time": "2024-04-26T15:12:22.404337500Z"
    }
   },
   "id": "26539535c7f05728",
   "execution_count": 13
  },
  {
   "cell_type": "code",
   "outputs": [],
   "source": [],
   "metadata": {
    "collapsed": false,
    "ExecuteTime": {
     "end_time": "2024-04-26T15:12:22.408957700Z",
     "start_time": "2024-04-26T15:12:22.407447100Z"
    }
   },
   "id": "1faa468ca967e492",
   "execution_count": 13
  }
 ],
 "metadata": {
  "kernelspec": {
   "display_name": "Python 3",
   "language": "python",
   "name": "python3"
  },
  "language_info": {
   "codemirror_mode": {
    "name": "ipython",
    "version": 2
   },
   "file_extension": ".py",
   "mimetype": "text/x-python",
   "name": "python",
   "nbconvert_exporter": "python",
   "pygments_lexer": "ipython2",
   "version": "2.7.6"
  }
 },
 "nbformat": 4,
 "nbformat_minor": 5
}
