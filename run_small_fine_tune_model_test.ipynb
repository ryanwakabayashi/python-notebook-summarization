{
 "cells": [
  {
   "cell_type": "code",
   "execution_count": 1,
   "id": "initial_id",
   "metadata": {
    "collapsed": true,
    "ExecuteTime": {
     "end_time": "2024-05-09T02:28:23.009071700Z",
     "start_time": "2024-05-09T02:28:18.837200200Z"
    }
   },
   "outputs": [],
   "source": [
    "from transformers import AutoTokenizer, AutoModelForCausalLM, BitsAndBytesConfig, TrainingArguments, pipeline, logging, T5ForConditionalGeneration, T5Tokenizer, AutoModelForSeq2SeqLM\n",
    "from peft import LoraConfig, get_peft_model, PeftModel\n",
    "from datasets import load_dataset\n",
    "from trl import SFTTrainer\n",
    "import pandas as pd\n",
    "import torch\n",
    "from tqdm.notebook import tqdm\n",
    "from sklearn.model_selection import train_test_split\n"
   ]
  },
  {
   "cell_type": "code",
   "outputs": [
    {
     "name": "stdout",
     "output_type": "stream",
     "text": [
      "trainable params: 0 || all params: 79,713,664 || trainable%: 0.0\n"
     ]
    }
   ],
   "source": [
    "model_path = \"google/flan-t5-small\"\n",
    "\n",
    "quant_config = BitsAndBytesConfig(load_in_4bit=True, bnb_4bit_quant_type=\"nf4\", bnb_4bit_compute_dtype=torch.bfloat16, bnb_4bit_use_double_quant=False)\n",
    "\n",
    "tokenizer = AutoTokenizer.from_pretrained(model_path, truncation=True, padding=True)\n",
    "peft_model_base = AutoModelForSeq2SeqLM.from_pretrained(model_path, device_map=\"auto\", quantization_config=quant_config)\n",
    "\n",
    "peft_model_path = \"./flan-t5-small-fine-tuned/\"\n",
    "\n",
    "peft_model = PeftModel.from_pretrained(peft_model_base, peft_model_path, is_trainable=False, device_map=\"auto\")\n",
    "peft_model.print_trainable_parameters()"
   ],
   "metadata": {
    "collapsed": false,
    "ExecuteTime": {
     "end_time": "2024-05-09T02:28:24.384661200Z",
     "start_time": "2024-05-09T02:28:23.011071600Z"
    }
   },
   "id": "15b2dbad8208c479",
   "execution_count": 2
  },
  {
   "cell_type": "code",
   "outputs": [
    {
     "data": {
      "text/plain": "           filename                                      notebook_data  \\\n0     1000010.ipynb  import pandas as pd\\nimport seaborn as sns\\nim...   \n1     1000014.ipynb  # This Python 3 environment comes with many he...   \n2     1000018.ipynb  # This Python 3 environment comes with many he...   \n3     1000025.ipynb  As the name says, all I am doing here is clean...   \n4     1000028.ipynb  # This Python 3 environment comes with many he...   \n...             ...                                                ...   \n3495  1025649.ipynb  \\nthis is a combination of my learning from ka...   \n3496  1025658.ipynb  #Interacting with Data\\nAn interactive visuali...   \n3497  1025660.ipynb  \\nthis is a combination of my learning from ka...   \n3498  1025661.ipynb  **Exploring Homicide Reports 1980-2014!**\\n\\nH...   \n3499  1025663.ipynb  ## Introduction ##\\n\\nThis is a simple dataset...   \n\n      line_count  char_count  \\\n0             44        2895   \n1             41        1268   \n2             58        3119   \n3            122        6354   \n4             22         925   \n...          ...         ...   \n3495         243        9120   \n3496          62        2567   \n3497         283       10752   \n3498         167        7658   \n3499          21         588   \n\n                                               question  \\\n0     Summarize the following code in two to three s...   \n1     Summarize the following code in two to three s...   \n2     Summarize the following code in two to three s...   \n3     Summarize the following code in two to three s...   \n4     Summarize the following code in two to three s...   \n...                                                 ...   \n3495  Summarize the following code in two to three s...   \n3496  Summarize the following code in two to three s...   \n3497  Summarize the following code in two to three s...   \n3498  Summarize the following code in two to three s...   \n3499  Summarize the following code in two to three s...   \n\n                                                 answer  \n0     The code intends to analyze and visualize happ...  \n1     The code is intended to train a linear model u...  \n2     The code intends to analyze and classify data ...  \n3     The code is focused on cleaning and preprocess...  \n4     The code intends to load and process data from...  \n...                                                 ...  \n3495  The code aims to predict who survived the sink...  \n3496  The code is designed to create interactive vis...  \n3497  The code aims to predict who survived the sink...  \n3498  The code explores homicide reports from 1980 t...  \n3499  The code reads in a CSV dataset named \"crime.c...  \n\n[3500 rows x 6 columns]",
      "text/html": "<div>\n<style scoped>\n    .dataframe tbody tr th:only-of-type {\n        vertical-align: middle;\n    }\n\n    .dataframe tbody tr th {\n        vertical-align: top;\n    }\n\n    .dataframe thead th {\n        text-align: right;\n    }\n</style>\n<table border=\"1\" class=\"dataframe\">\n  <thead>\n    <tr style=\"text-align: right;\">\n      <th></th>\n      <th>filename</th>\n      <th>notebook_data</th>\n      <th>line_count</th>\n      <th>char_count</th>\n      <th>question</th>\n      <th>answer</th>\n    </tr>\n  </thead>\n  <tbody>\n    <tr>\n      <th>0</th>\n      <td>1000010.ipynb</td>\n      <td>import pandas as pd\\nimport seaborn as sns\\nim...</td>\n      <td>44</td>\n      <td>2895</td>\n      <td>Summarize the following code in two to three s...</td>\n      <td>The code intends to analyze and visualize happ...</td>\n    </tr>\n    <tr>\n      <th>1</th>\n      <td>1000014.ipynb</td>\n      <td># This Python 3 environment comes with many he...</td>\n      <td>41</td>\n      <td>1268</td>\n      <td>Summarize the following code in two to three s...</td>\n      <td>The code is intended to train a linear model u...</td>\n    </tr>\n    <tr>\n      <th>2</th>\n      <td>1000018.ipynb</td>\n      <td># This Python 3 environment comes with many he...</td>\n      <td>58</td>\n      <td>3119</td>\n      <td>Summarize the following code in two to three s...</td>\n      <td>The code intends to analyze and classify data ...</td>\n    </tr>\n    <tr>\n      <th>3</th>\n      <td>1000025.ipynb</td>\n      <td>As the name says, all I am doing here is clean...</td>\n      <td>122</td>\n      <td>6354</td>\n      <td>Summarize the following code in two to three s...</td>\n      <td>The code is focused on cleaning and preprocess...</td>\n    </tr>\n    <tr>\n      <th>4</th>\n      <td>1000028.ipynb</td>\n      <td># This Python 3 environment comes with many he...</td>\n      <td>22</td>\n      <td>925</td>\n      <td>Summarize the following code in two to three s...</td>\n      <td>The code intends to load and process data from...</td>\n    </tr>\n    <tr>\n      <th>...</th>\n      <td>...</td>\n      <td>...</td>\n      <td>...</td>\n      <td>...</td>\n      <td>...</td>\n      <td>...</td>\n    </tr>\n    <tr>\n      <th>3495</th>\n      <td>1025649.ipynb</td>\n      <td>\\nthis is a combination of my learning from ka...</td>\n      <td>243</td>\n      <td>9120</td>\n      <td>Summarize the following code in two to three s...</td>\n      <td>The code aims to predict who survived the sink...</td>\n    </tr>\n    <tr>\n      <th>3496</th>\n      <td>1025658.ipynb</td>\n      <td>#Interacting with Data\\nAn interactive visuali...</td>\n      <td>62</td>\n      <td>2567</td>\n      <td>Summarize the following code in two to three s...</td>\n      <td>The code is designed to create interactive vis...</td>\n    </tr>\n    <tr>\n      <th>3497</th>\n      <td>1025660.ipynb</td>\n      <td>\\nthis is a combination of my learning from ka...</td>\n      <td>283</td>\n      <td>10752</td>\n      <td>Summarize the following code in two to three s...</td>\n      <td>The code aims to predict who survived the sink...</td>\n    </tr>\n    <tr>\n      <th>3498</th>\n      <td>1025661.ipynb</td>\n      <td>**Exploring Homicide Reports 1980-2014!**\\n\\nH...</td>\n      <td>167</td>\n      <td>7658</td>\n      <td>Summarize the following code in two to three s...</td>\n      <td>The code explores homicide reports from 1980 t...</td>\n    </tr>\n    <tr>\n      <th>3499</th>\n      <td>1025663.ipynb</td>\n      <td>## Introduction ##\\n\\nThis is a simple dataset...</td>\n      <td>21</td>\n      <td>588</td>\n      <td>Summarize the following code in two to three s...</td>\n      <td>The code reads in a CSV dataset named \"crime.c...</td>\n    </tr>\n  </tbody>\n</table>\n<p>3500 rows × 6 columns</p>\n</div>"
     },
     "execution_count": 3,
     "metadata": {},
     "output_type": "execute_result"
    }
   ],
   "source": [
    "def generate_summary(row):    \n",
    "    device = peft_model.device\n",
    "    inputs = tokenizer(row['question'], return_tensors=\"pt\").to(device)\n",
    "    outputs = peft_model.generate(**inputs, max_new_tokens=512)\n",
    "    answer = tokenizer.batch_decode(outputs, skip_special_tokens=True)[0]\n",
    "\n",
    "    return pd.Series([row['question'], answer], index=['question', 'answer'])\n",
    "\n",
    "llama_3_data = pd.read_parquet(\"data/data_cleaned.parquet\", engine=\"pyarrow\")\n",
    "llama_3_data"
   ],
   "metadata": {
    "collapsed": false,
    "ExecuteTime": {
     "end_time": "2024-05-09T02:28:24.449915500Z",
     "start_time": "2024-05-09T02:28:24.384661200Z"
    }
   },
   "id": "a0736656a1c63be9",
   "execution_count": 3
  },
  {
   "cell_type": "code",
   "outputs": [
    {
     "data": {
      "text/plain": "           filename                                      notebook_data  \\\n1650  1010830.ipynb  # Load packages\\nlibrary('ggplot2') # visualiz...   \n2456  1016708.ipynb  # This Python 3 environment comes with many he...   \n2232  1014662.ipynb  # This Python 3 environment comes with many he...   \n1945  1012749.ipynb  # This Python 3 environment comes with many he...   \n309   1001858.ipynb  # Crime in Chicago\\n## What, Where, and When\\n...   \n...             ...                                                ...   \n3127  1023076.ipynb  # This Python 3 environment comes with many he...   \n744   1004830.ipynb  # NYC Taxi Hot Spots\\nimport numpy as np\\nimpo...   \n631   1004357.ipynb  # Predicting the price of the car using regres...   \n1557  1010294.ipynb  # This Python 3 environment comes with many he...   \n2213  1014535.ipynb  # NLP fun!\\n\\nThis competition is about modell...   \n\n      line_count  char_count  \\\n1650          12         436   \n2456          16         806   \n2232          13         679   \n1945          13         679   \n309          252       10343   \n...          ...         ...   \n3127          41        1694   \n744           35        1119   \n631           82        3674   \n1557          13         679   \n2213          25        1064   \n\n                                               question  \\\n1650  Summarize the following code in two to three s...   \n2456  Summarize the following code in two to three s...   \n2232  Summarize the following code in two to three s...   \n1945  Summarize the following code in two to three s...   \n309   Summarize the following code in two to three s...   \n...                                                 ...   \n3127  Summarize the following code in two to three s...   \n744   Summarize the following code in two to three s...   \n631   Summarize the following code in two to three s...   \n1557  Summarize the following code in two to three s...   \n2213  Summarize the following code in two to three s...   \n\n                                                 answer  \n1650  The code loads various packages for data visua...  \n2456  The code imports necessary libraries for data ...  \n2232  The code imports necessary libraries for data ...  \n1945  The code imports necessary libraries for data ...  \n309   The code intends to analyze crime data in Chic...  \n...                                                 ...  \n3127  The code intends to load and preprocess data f...  \n744   The code intends to analyze and visualize data...  \n631   The code is designed to predict the price of a...  \n1557  The code imports necessary libraries for data ...  \n2213  The code is analyzing a dataset of question pa...  \n\n[700 rows x 6 columns]",
      "text/html": "<div>\n<style scoped>\n    .dataframe tbody tr th:only-of-type {\n        vertical-align: middle;\n    }\n\n    .dataframe tbody tr th {\n        vertical-align: top;\n    }\n\n    .dataframe thead th {\n        text-align: right;\n    }\n</style>\n<table border=\"1\" class=\"dataframe\">\n  <thead>\n    <tr style=\"text-align: right;\">\n      <th></th>\n      <th>filename</th>\n      <th>notebook_data</th>\n      <th>line_count</th>\n      <th>char_count</th>\n      <th>question</th>\n      <th>answer</th>\n    </tr>\n  </thead>\n  <tbody>\n    <tr>\n      <th>1650</th>\n      <td>1010830.ipynb</td>\n      <td># Load packages\\nlibrary('ggplot2') # visualiz...</td>\n      <td>12</td>\n      <td>436</td>\n      <td>Summarize the following code in two to three s...</td>\n      <td>The code loads various packages for data visua...</td>\n    </tr>\n    <tr>\n      <th>2456</th>\n      <td>1016708.ipynb</td>\n      <td># This Python 3 environment comes with many he...</td>\n      <td>16</td>\n      <td>806</td>\n      <td>Summarize the following code in two to three s...</td>\n      <td>The code imports necessary libraries for data ...</td>\n    </tr>\n    <tr>\n      <th>2232</th>\n      <td>1014662.ipynb</td>\n      <td># This Python 3 environment comes with many he...</td>\n      <td>13</td>\n      <td>679</td>\n      <td>Summarize the following code in two to three s...</td>\n      <td>The code imports necessary libraries for data ...</td>\n    </tr>\n    <tr>\n      <th>1945</th>\n      <td>1012749.ipynb</td>\n      <td># This Python 3 environment comes with many he...</td>\n      <td>13</td>\n      <td>679</td>\n      <td>Summarize the following code in two to three s...</td>\n      <td>The code imports necessary libraries for data ...</td>\n    </tr>\n    <tr>\n      <th>309</th>\n      <td>1001858.ipynb</td>\n      <td># Crime in Chicago\\n## What, Where, and When\\n...</td>\n      <td>252</td>\n      <td>10343</td>\n      <td>Summarize the following code in two to three s...</td>\n      <td>The code intends to analyze crime data in Chic...</td>\n    </tr>\n    <tr>\n      <th>...</th>\n      <td>...</td>\n      <td>...</td>\n      <td>...</td>\n      <td>...</td>\n      <td>...</td>\n      <td>...</td>\n    </tr>\n    <tr>\n      <th>3127</th>\n      <td>1023076.ipynb</td>\n      <td># This Python 3 environment comes with many he...</td>\n      <td>41</td>\n      <td>1694</td>\n      <td>Summarize the following code in two to three s...</td>\n      <td>The code intends to load and preprocess data f...</td>\n    </tr>\n    <tr>\n      <th>744</th>\n      <td>1004830.ipynb</td>\n      <td># NYC Taxi Hot Spots\\nimport numpy as np\\nimpo...</td>\n      <td>35</td>\n      <td>1119</td>\n      <td>Summarize the following code in two to three s...</td>\n      <td>The code intends to analyze and visualize data...</td>\n    </tr>\n    <tr>\n      <th>631</th>\n      <td>1004357.ipynb</td>\n      <td># Predicting the price of the car using regres...</td>\n      <td>82</td>\n      <td>3674</td>\n      <td>Summarize the following code in two to three s...</td>\n      <td>The code is designed to predict the price of a...</td>\n    </tr>\n    <tr>\n      <th>1557</th>\n      <td>1010294.ipynb</td>\n      <td># This Python 3 environment comes with many he...</td>\n      <td>13</td>\n      <td>679</td>\n      <td>Summarize the following code in two to three s...</td>\n      <td>The code imports necessary libraries for data ...</td>\n    </tr>\n    <tr>\n      <th>2213</th>\n      <td>1014535.ipynb</td>\n      <td># NLP fun!\\n\\nThis competition is about modell...</td>\n      <td>25</td>\n      <td>1064</td>\n      <td>Summarize the following code in two to three s...</td>\n      <td>The code is analyzing a dataset of question pa...</td>\n    </tr>\n  </tbody>\n</table>\n<p>700 rows × 6 columns</p>\n</div>"
     },
     "execution_count": 4,
     "metadata": {},
     "output_type": "execute_result"
    }
   ],
   "source": [
    "train_df, test_df = train_test_split(llama_3_data, test_size=0.2, random_state=42) \n",
    "test_df"
   ],
   "metadata": {
    "collapsed": false,
    "ExecuteTime": {
     "end_time": "2024-05-09T02:28:24.461936500Z",
     "start_time": "2024-05-09T02:28:24.448913400Z"
    }
   },
   "id": "fa25c3ff30759f1f",
   "execution_count": 4
  },
  {
   "cell_type": "code",
   "outputs": [
    {
     "data": {
      "text/plain": "  0%|          | 0/700 [00:00<?, ?it/s]",
      "application/vnd.jupyter.widget-view+json": {
       "version_major": 2,
       "version_minor": 0,
       "model_id": "5ccd22ba4c484d11a4efd0b34ccd64ae"
      }
     },
     "metadata": {},
     "output_type": "display_data"
    },
    {
     "name": "stderr",
     "output_type": "stream",
     "text": [
      "Token indices sequence length is longer than the specified maximum sequence length for this model (3937 > 512). Running this sequence through the model will result in indexing errors\n"
     ]
    },
    {
     "data": {
      "text/plain": "                                               question  \\\n1650  Summarize the following code in two to three s...   \n2456  Summarize the following code in two to three s...   \n2232  Summarize the following code in two to three s...   \n1945  Summarize the following code in two to three s...   \n309   Summarize the following code in two to three s...   \n...                                                 ...   \n3127  Summarize the following code in two to three s...   \n744   Summarize the following code in two to three s...   \n631   Summarize the following code in two to three s...   \n1557  Summarize the following code in two to three s...   \n2213  Summarize the following code in two to three s...   \n\n                                                 answer  \n1650         # bind training & test data str(full) full  \n2456  # This Python 3 environment comes with many he...  \n2232  # kaggle/python docker image: https://github.c...  \n1945  # kaggle/python docker image: https://github.c...  \n309   ### Crime in Chicago ### What, Where, and When...  \n...                                                 ...  \n3127  # This Python 3 environment comes with many he...  \n744   # NYC Taxi Hot Spots import numpy as np import...  \n631   # Predicting the price of the car using regres...  \n1557  # kaggle/python docker image: https://github.c...  \n2213  # sns.pairplot(df['q1len', 'q2len', 'is_duplic...  \n\n[700 rows x 2 columns]",
      "text/html": "<div>\n<style scoped>\n    .dataframe tbody tr th:only-of-type {\n        vertical-align: middle;\n    }\n\n    .dataframe tbody tr th {\n        vertical-align: top;\n    }\n\n    .dataframe thead th {\n        text-align: right;\n    }\n</style>\n<table border=\"1\" class=\"dataframe\">\n  <thead>\n    <tr style=\"text-align: right;\">\n      <th></th>\n      <th>question</th>\n      <th>answer</th>\n    </tr>\n  </thead>\n  <tbody>\n    <tr>\n      <th>1650</th>\n      <td>Summarize the following code in two to three s...</td>\n      <td># bind training &amp; test data str(full) full</td>\n    </tr>\n    <tr>\n      <th>2456</th>\n      <td>Summarize the following code in two to three s...</td>\n      <td># This Python 3 environment comes with many he...</td>\n    </tr>\n    <tr>\n      <th>2232</th>\n      <td>Summarize the following code in two to three s...</td>\n      <td># kaggle/python docker image: https://github.c...</td>\n    </tr>\n    <tr>\n      <th>1945</th>\n      <td>Summarize the following code in two to three s...</td>\n      <td># kaggle/python docker image: https://github.c...</td>\n    </tr>\n    <tr>\n      <th>309</th>\n      <td>Summarize the following code in two to three s...</td>\n      <td>### Crime in Chicago ### What, Where, and When...</td>\n    </tr>\n    <tr>\n      <th>...</th>\n      <td>...</td>\n      <td>...</td>\n    </tr>\n    <tr>\n      <th>3127</th>\n      <td>Summarize the following code in two to three s...</td>\n      <td># This Python 3 environment comes with many he...</td>\n    </tr>\n    <tr>\n      <th>744</th>\n      <td>Summarize the following code in two to three s...</td>\n      <td># NYC Taxi Hot Spots import numpy as np import...</td>\n    </tr>\n    <tr>\n      <th>631</th>\n      <td>Summarize the following code in two to three s...</td>\n      <td># Predicting the price of the car using regres...</td>\n    </tr>\n    <tr>\n      <th>1557</th>\n      <td>Summarize the following code in two to three s...</td>\n      <td># kaggle/python docker image: https://github.c...</td>\n    </tr>\n    <tr>\n      <th>2213</th>\n      <td>Summarize the following code in two to three s...</td>\n      <td># sns.pairplot(df['q1len', 'q2len', 'is_duplic...</td>\n    </tr>\n  </tbody>\n</table>\n<p>700 rows × 2 columns</p>\n</div>"
     },
     "execution_count": 5,
     "metadata": {},
     "output_type": "execute_result"
    }
   ],
   "source": [
    "tqdm.pandas()\n",
    "\n",
    "df = pd.DataFrame(columns=['question', 'answer'])\n",
    "df = test_df.progress_apply(generate_summary, axis=1)\n",
    "df"
   ],
   "metadata": {
    "collapsed": false,
    "ExecuteTime": {
     "end_time": "2024-05-09T04:13:37.375741800Z",
     "start_time": "2024-05-09T02:28:24.458934900Z"
    }
   },
   "id": "a606340925597759",
   "execution_count": 5
  },
  {
   "cell_type": "code",
   "outputs": [
    {
     "name": "stdout",
     "output_type": "stream",
     "text": [
      "# This Python 3 environment comes with many helpful analytics libraries installed # It is defined by the kaggle/python docker image: https://github.com/kaggle/docker-python # For example, here's several helpful packages to load in import numpy as np # linear algebra import pandas as pd # data processing, CSV file I/O (e.g. pd.read_csv) import matplotlib.pyplot as plt # Input data files are available in the \"../input/\" directory. # For example, running this (by clicking run or pressing Shift+Enter) will list the files in the input directory from subprocess import check_output print(check_output([\"ls\", \"../input\"]).decode(\"utf8\")) # Any results you write to the current directory are saved as output. df_train = pd.read_csv('../input/train.csv') df_train.head() plt.hist(df_train['is_duplicate'])\n"
     ]
    }
   ],
   "source": [
    "print(df['answer'][2456])"
   ],
   "metadata": {
    "collapsed": false,
    "ExecuteTime": {
     "end_time": "2024-05-09T04:13:37.377740600Z",
     "start_time": "2024-05-09T04:13:37.373838400Z"
    }
   },
   "id": "63974dbff0d25989",
   "execution_count": 6
  },
  {
   "cell_type": "code",
   "outputs": [],
   "source": [
    "df.to_parquet(\"data/outputs/flan_t5_small_fine_tuned.parquet\", engine=\"pyarrow\")"
   ],
   "metadata": {
    "collapsed": false,
    "ExecuteTime": {
     "end_time": "2024-05-09T04:13:37.468194300Z",
     "start_time": "2024-05-09T04:13:37.376741300Z"
    }
   },
   "id": "1f63a81e296a3f74",
   "execution_count": 7
  },
  {
   "cell_type": "code",
   "outputs": [],
   "source": [],
   "metadata": {
    "collapsed": false,
    "ExecuteTime": {
     "end_time": "2024-05-09T04:13:37.468194300Z",
     "start_time": "2024-05-09T04:13:37.435874500Z"
    }
   },
   "id": "33e252e39cefada8",
   "execution_count": 7
  }
 ],
 "metadata": {
  "kernelspec": {
   "display_name": "Python 3",
   "language": "python",
   "name": "python3"
  },
  "language_info": {
   "codemirror_mode": {
    "name": "ipython",
    "version": 2
   },
   "file_extension": ".py",
   "mimetype": "text/x-python",
   "name": "python",
   "nbconvert_exporter": "python",
   "pygments_lexer": "ipython2",
   "version": "2.7.6"
  }
 },
 "nbformat": 4,
 "nbformat_minor": 5
}
