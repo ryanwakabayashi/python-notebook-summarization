{
 "cells": [
  {
   "cell_type": "code",
   "execution_count": 1,
   "id": "initial_id",
   "metadata": {
    "ExecuteTime": {
     "end_time": "2024-05-09T02:28:23.009071700Z",
     "start_time": "2024-05-09T02:28:18.837200200Z"
    }
   },
   "outputs": [],
   "source": [
    "from transformers import AutoTokenizer, AutoModelForCausalLM, BitsAndBytesConfig, TrainingArguments, pipeline, logging, T5ForConditionalGeneration, T5Tokenizer, AutoModelForSeq2SeqLM\n",
    "from peft import LoraConfig, get_peft_model, PeftModel\n",
    "from datasets import load_dataset\n",
    "from trl import SFTTrainer\n",
    "import pandas as pd\n",
    "import torch\n",
    "from tqdm.notebook import tqdm\n",
    "from sklearn.model_selection import train_test_split\n"
   ]
  },
  {
   "cell_type": "code",
   "execution_count": 2,
   "id": "15b2dbad8208c479",
   "metadata": {
    "ExecuteTime": {
     "end_time": "2024-05-09T02:28:24.384661200Z",
     "start_time": "2024-05-09T02:28:23.011071600Z"
    },
    "collapsed": false,
    "jupyter": {
     "outputs_hidden": false
    }
   },
   "outputs": [
    {
     "name": "stdout",
     "output_type": "stream",
     "text": [
      "trainable params: 0 || all params: 254,655,744 || trainable%: 0.0\n"
     ]
    }
   ],
   "source": [
    "model_path = \"google/flan-t5-base\"\n",
    "\n",
    "quant_config = BitsAndBytesConfig(load_in_4bit=True, bnb_4bit_quant_type=\"nf4\", bnb_4bit_compute_dtype=torch.bfloat16, bnb_4bit_use_double_quant=False)\n",
    "\n",
    "tokenizer = AutoTokenizer.from_pretrained(model_path, truncation=True, padding=True)\n",
    "peft_model_base = AutoModelForSeq2SeqLM.from_pretrained(model_path, device_map=\"auto\", quantization_config=quant_config)\n",
    "\n",
    "peft_model_path = \"./flan-t5-base-fine-tuned/\"\n",
    "\n",
    "peft_model = PeftModel.from_pretrained(peft_model_base, peft_model_path, is_trainable=False, device_map=\"auto\")\n",
    "peft_model.print_trainable_parameters()"
   ]
  },
  {
   "cell_type": "code",
   "execution_count": 3,
   "id": "a0736656a1c63be9",
   "metadata": {
    "ExecuteTime": {
     "end_time": "2024-05-09T02:28:24.449915500Z",
     "start_time": "2024-05-09T02:28:24.384661200Z"
    },
    "collapsed": false,
    "jupyter": {
     "outputs_hidden": false
    }
   },
   "outputs": [
    {
     "data": {
      "text/html": [
       "<div>\n",
       "<style scoped>\n",
       "    .dataframe tbody tr th:only-of-type {\n",
       "        vertical-align: middle;\n",
       "    }\n",
       "\n",
       "    .dataframe tbody tr th {\n",
       "        vertical-align: top;\n",
       "    }\n",
       "\n",
       "    .dataframe thead th {\n",
       "        text-align: right;\n",
       "    }\n",
       "</style>\n",
       "<table border=\"1\" class=\"dataframe\">\n",
       "  <thead>\n",
       "    <tr style=\"text-align: right;\">\n",
       "      <th></th>\n",
       "      <th>filename</th>\n",
       "      <th>notebook_data</th>\n",
       "      <th>line_count</th>\n",
       "      <th>char_count</th>\n",
       "      <th>question</th>\n",
       "      <th>answer</th>\n",
       "    </tr>\n",
       "  </thead>\n",
       "  <tbody>\n",
       "    <tr>\n",
       "      <th>0</th>\n",
       "      <td>1000010.ipynb</td>\n",
       "      <td>import pandas as pd\\nimport seaborn as sns\\nim...</td>\n",
       "      <td>44</td>\n",
       "      <td>2895</td>\n",
       "      <td>Summarize the following code in two to three s...</td>\n",
       "      <td>The code intends to analyze and visualize happ...</td>\n",
       "    </tr>\n",
       "    <tr>\n",
       "      <th>1</th>\n",
       "      <td>1000014.ipynb</td>\n",
       "      <td># This Python 3 environment comes with many he...</td>\n",
       "      <td>41</td>\n",
       "      <td>1268</td>\n",
       "      <td>Summarize the following code in two to three s...</td>\n",
       "      <td>The code is intended to train a linear model u...</td>\n",
       "    </tr>\n",
       "    <tr>\n",
       "      <th>2</th>\n",
       "      <td>1000018.ipynb</td>\n",
       "      <td># This Python 3 environment comes with many he...</td>\n",
       "      <td>58</td>\n",
       "      <td>3119</td>\n",
       "      <td>Summarize the following code in two to three s...</td>\n",
       "      <td>The code intends to analyze and classify data ...</td>\n",
       "    </tr>\n",
       "    <tr>\n",
       "      <th>3</th>\n",
       "      <td>1000025.ipynb</td>\n",
       "      <td>As the name says, all I am doing here is clean...</td>\n",
       "      <td>122</td>\n",
       "      <td>6354</td>\n",
       "      <td>Summarize the following code in two to three s...</td>\n",
       "      <td>The code is focused on cleaning and preprocess...</td>\n",
       "    </tr>\n",
       "    <tr>\n",
       "      <th>4</th>\n",
       "      <td>1000028.ipynb</td>\n",
       "      <td># This Python 3 environment comes with many he...</td>\n",
       "      <td>22</td>\n",
       "      <td>925</td>\n",
       "      <td>Summarize the following code in two to three s...</td>\n",
       "      <td>The code intends to load and process data from...</td>\n",
       "    </tr>\n",
       "    <tr>\n",
       "      <th>...</th>\n",
       "      <td>...</td>\n",
       "      <td>...</td>\n",
       "      <td>...</td>\n",
       "      <td>...</td>\n",
       "      <td>...</td>\n",
       "      <td>...</td>\n",
       "    </tr>\n",
       "    <tr>\n",
       "      <th>3495</th>\n",
       "      <td>1025649.ipynb</td>\n",
       "      <td>\\nthis is a combination of my learning from ka...</td>\n",
       "      <td>243</td>\n",
       "      <td>9120</td>\n",
       "      <td>Summarize the following code in two to three s...</td>\n",
       "      <td>The code aims to predict who survived the sink...</td>\n",
       "    </tr>\n",
       "    <tr>\n",
       "      <th>3496</th>\n",
       "      <td>1025658.ipynb</td>\n",
       "      <td>#Interacting with Data\\nAn interactive visuali...</td>\n",
       "      <td>62</td>\n",
       "      <td>2567</td>\n",
       "      <td>Summarize the following code in two to three s...</td>\n",
       "      <td>The code is designed to create interactive vis...</td>\n",
       "    </tr>\n",
       "    <tr>\n",
       "      <th>3497</th>\n",
       "      <td>1025660.ipynb</td>\n",
       "      <td>\\nthis is a combination of my learning from ka...</td>\n",
       "      <td>283</td>\n",
       "      <td>10752</td>\n",
       "      <td>Summarize the following code in two to three s...</td>\n",
       "      <td>The code aims to predict who survived the sink...</td>\n",
       "    </tr>\n",
       "    <tr>\n",
       "      <th>3498</th>\n",
       "      <td>1025661.ipynb</td>\n",
       "      <td>**Exploring Homicide Reports 1980-2014!**\\n\\nH...</td>\n",
       "      <td>167</td>\n",
       "      <td>7658</td>\n",
       "      <td>Summarize the following code in two to three s...</td>\n",
       "      <td>The code explores homicide reports from 1980 t...</td>\n",
       "    </tr>\n",
       "    <tr>\n",
       "      <th>3499</th>\n",
       "      <td>1025663.ipynb</td>\n",
       "      <td>## Introduction ##\\n\\nThis is a simple dataset...</td>\n",
       "      <td>21</td>\n",
       "      <td>588</td>\n",
       "      <td>Summarize the following code in two to three s...</td>\n",
       "      <td>The code reads in a CSV dataset named \"crime.c...</td>\n",
       "    </tr>\n",
       "  </tbody>\n",
       "</table>\n",
       "<p>3500 rows × 6 columns</p>\n",
       "</div>"
      ],
      "text/plain": [
       "           filename                                      notebook_data  \\\n",
       "0     1000010.ipynb  import pandas as pd\\nimport seaborn as sns\\nim...   \n",
       "1     1000014.ipynb  # This Python 3 environment comes with many he...   \n",
       "2     1000018.ipynb  # This Python 3 environment comes with many he...   \n",
       "3     1000025.ipynb  As the name says, all I am doing here is clean...   \n",
       "4     1000028.ipynb  # This Python 3 environment comes with many he...   \n",
       "...             ...                                                ...   \n",
       "3495  1025649.ipynb  \\nthis is a combination of my learning from ka...   \n",
       "3496  1025658.ipynb  #Interacting with Data\\nAn interactive visuali...   \n",
       "3497  1025660.ipynb  \\nthis is a combination of my learning from ka...   \n",
       "3498  1025661.ipynb  **Exploring Homicide Reports 1980-2014!**\\n\\nH...   \n",
       "3499  1025663.ipynb  ## Introduction ##\\n\\nThis is a simple dataset...   \n",
       "\n",
       "      line_count  char_count  \\\n",
       "0             44        2895   \n",
       "1             41        1268   \n",
       "2             58        3119   \n",
       "3            122        6354   \n",
       "4             22         925   \n",
       "...          ...         ...   \n",
       "3495         243        9120   \n",
       "3496          62        2567   \n",
       "3497         283       10752   \n",
       "3498         167        7658   \n",
       "3499          21         588   \n",
       "\n",
       "                                               question  \\\n",
       "0     Summarize the following code in two to three s...   \n",
       "1     Summarize the following code in two to three s...   \n",
       "2     Summarize the following code in two to three s...   \n",
       "3     Summarize the following code in two to three s...   \n",
       "4     Summarize the following code in two to three s...   \n",
       "...                                                 ...   \n",
       "3495  Summarize the following code in two to three s...   \n",
       "3496  Summarize the following code in two to three s...   \n",
       "3497  Summarize the following code in two to three s...   \n",
       "3498  Summarize the following code in two to three s...   \n",
       "3499  Summarize the following code in two to three s...   \n",
       "\n",
       "                                                 answer  \n",
       "0     The code intends to analyze and visualize happ...  \n",
       "1     The code is intended to train a linear model u...  \n",
       "2     The code intends to analyze and classify data ...  \n",
       "3     The code is focused on cleaning and preprocess...  \n",
       "4     The code intends to load and process data from...  \n",
       "...                                                 ...  \n",
       "3495  The code aims to predict who survived the sink...  \n",
       "3496  The code is designed to create interactive vis...  \n",
       "3497  The code aims to predict who survived the sink...  \n",
       "3498  The code explores homicide reports from 1980 t...  \n",
       "3499  The code reads in a CSV dataset named \"crime.c...  \n",
       "\n",
       "[3500 rows x 6 columns]"
      ]
     },
     "execution_count": 3,
     "metadata": {},
     "output_type": "execute_result"
    }
   ],
   "source": [
    "def generate_summary(row):    \n",
    "    device = peft_model.device\n",
    "    inputs = tokenizer(row['question'], return_tensors=\"pt\").to(device)\n",
    "    outputs = peft_model.generate(**inputs, max_new_tokens=512)\n",
    "    answer = tokenizer.batch_decode(outputs, skip_special_tokens=True)[0]\n",
    "\n",
    "    return pd.Series([row['question'], answer], index=['question', 'answer'])\n",
    "\n",
    "llama_3_data = pd.read_parquet(\"data/data_cleaned.parquet\", engine=\"pyarrow\")\n",
    "llama_3_data"
   ]
  },
  {
   "cell_type": "code",
   "execution_count": 4,
   "id": "fa25c3ff30759f1f",
   "metadata": {
    "ExecuteTime": {
     "end_time": "2024-05-09T02:28:24.461936500Z",
     "start_time": "2024-05-09T02:28:24.448913400Z"
    },
    "collapsed": false,
    "jupyter": {
     "outputs_hidden": false
    }
   },
   "outputs": [],
   "source": [
    "train_df, test_df = train_test_split(llama_3_data, test_size=0.2, random_state=42) \n",
    "test_df = test_df[:5]"
   ]
  },
  {
   "cell_type": "code",
   "execution_count": 5,
   "id": "a606340925597759",
   "metadata": {
    "ExecuteTime": {
     "end_time": "2024-05-09T04:13:37.375741800Z",
     "start_time": "2024-05-09T02:28:24.458934900Z"
    },
    "collapsed": false,
    "jupyter": {
     "outputs_hidden": false
    }
   },
   "outputs": [
    {
     "data": {
      "application/vnd.jupyter.widget-view+json": {
       "model_id": "371738351b9e4f3784385f8495194ab6",
       "version_major": 2,
       "version_minor": 0
      },
      "text/plain": [
       "  0%|          | 0/5 [00:00<?, ?it/s]"
      ]
     },
     "metadata": {},
     "output_type": "display_data"
    },
    {
     "name": "stderr",
     "output_type": "stream",
     "text": [
      "Token indices sequence length is longer than the specified maximum sequence length for this model (3937 > 512). Running this sequence through the model will result in indexing errors\n"
     ]
    },
    {
     "data": {
      "text/html": [
       "<div>\n",
       "<style scoped>\n",
       "    .dataframe tbody tr th:only-of-type {\n",
       "        vertical-align: middle;\n",
       "    }\n",
       "\n",
       "    .dataframe tbody tr th {\n",
       "        vertical-align: top;\n",
       "    }\n",
       "\n",
       "    .dataframe thead th {\n",
       "        text-align: right;\n",
       "    }\n",
       "</style>\n",
       "<table border=\"1\" class=\"dataframe\">\n",
       "  <thead>\n",
       "    <tr style=\"text-align: right;\">\n",
       "      <th></th>\n",
       "      <th>question</th>\n",
       "      <th>answer</th>\n",
       "    </tr>\n",
       "  </thead>\n",
       "  <tbody>\n",
       "    <tr>\n",
       "      <th>1650</th>\n",
       "      <td>Summarize the following code in two to three s...</td>\n",
       "      <td># Load packages library('ggplot2') # visualiza...</td>\n",
       "    </tr>\n",
       "    <tr>\n",
       "      <th>2456</th>\n",
       "      <td>Summarize the following code in two to three s...</td>\n",
       "      <td># This Python 3 environment comes with many he...</td>\n",
       "    </tr>\n",
       "    <tr>\n",
       "      <th>2232</th>\n",
       "      <td>Summarize the following code in two to three s...</td>\n",
       "      <td># This Python 3 environment comes with many he...</td>\n",
       "    </tr>\n",
       "    <tr>\n",
       "      <th>1945</th>\n",
       "      <td>Summarize the following code in two to three s...</td>\n",
       "      <td># This Python 3 environment comes with many he...</td>\n",
       "    </tr>\n",
       "    <tr>\n",
       "      <th>309</th>\n",
       "      <td>Summarize the following code in two to three s...</td>\n",
       "      <td>### What, Where, and When ### 2012-2016 import...</td>\n",
       "    </tr>\n",
       "  </tbody>\n",
       "</table>\n",
       "</div>"
      ],
      "text/plain": [
       "                                               question  \\\n",
       "1650  Summarize the following code in two to three s...   \n",
       "2456  Summarize the following code in two to three s...   \n",
       "2232  Summarize the following code in two to three s...   \n",
       "1945  Summarize the following code in two to three s...   \n",
       "309   Summarize the following code in two to three s...   \n",
       "\n",
       "                                                 answer  \n",
       "1650  # Load packages library('ggplot2') # visualiza...  \n",
       "2456  # This Python 3 environment comes with many he...  \n",
       "2232  # This Python 3 environment comes with many he...  \n",
       "1945  # This Python 3 environment comes with many he...  \n",
       "309   ### What, Where, and When ### 2012-2016 import...  "
      ]
     },
     "execution_count": 5,
     "metadata": {},
     "output_type": "execute_result"
    }
   ],
   "source": [
    "tqdm.pandas()\n",
    "\n",
    "df = pd.DataFrame(columns=['question', 'answer'])\n",
    "df = test_df.progress_apply(generate_summary, axis=1)\n",
    "df"
   ]
  },
  {
   "cell_type": "code",
   "execution_count": 6,
   "id": "63974dbff0d25989",
   "metadata": {
    "ExecuteTime": {
     "end_time": "2024-05-09T04:13:37.377740600Z",
     "start_time": "2024-05-09T04:13:37.373838400Z"
    },
    "collapsed": false,
    "jupyter": {
     "outputs_hidden": false
    }
   },
   "outputs": [
    {
     "name": "stdout",
     "output_type": "stream",
     "text": [
      "# This Python 3 environment comes with many helpful analytics libraries installed # It is defined by the kaggle/python docker image: https://github.com/kaggle/docker-python # For example, here's several helpful packages to load in import numpy as np # linear algebra import pandas as pd # data processing, CSV file I/O (e.g. pd.read_csv) import matplotlib.pyplot as plt # Input data files are available in the \"../input/\" directory # For example, running this (by clicking run or pressing Shift+Enter) will list the files in the input directory from subprocess import check_output print(check_output([\"ls\", \"../input\"]).decode(\"utf8\")) # Any results you write to the current directory are saved as output. df_train = pd.read_csv('../input/train.csv') df_train.head() plt.hist(df_train['is_duplicate'])\n"
     ]
    }
   ],
   "source": [
    "print(df['answer'][2456])"
   ]
  },
  {
   "cell_type": "code",
   "execution_count": 7,
   "id": "1f63a81e296a3f74",
   "metadata": {
    "ExecuteTime": {
     "end_time": "2024-05-09T04:13:37.468194300Z",
     "start_time": "2024-05-09T04:13:37.376741300Z"
    },
    "collapsed": false,
    "jupyter": {
     "outputs_hidden": false
    }
   },
   "outputs": [],
   "source": [
    "df.to_parquet(\"data/outputs/flan_t5_base_fine_tuned.parquet\", engine=\"pyarrow\")"
   ]
  },
  {
   "cell_type": "code",
   "execution_count": null,
   "id": "33e252e39cefada8",
   "metadata": {
    "ExecuteTime": {
     "end_time": "2024-05-09T04:13:37.468194300Z",
     "start_time": "2024-05-09T04:13:37.435874500Z"
    },
    "collapsed": false,
    "jupyter": {
     "outputs_hidden": false
    }
   },
   "outputs": [],
   "source": []
  }
 ],
 "metadata": {
  "kernelspec": {
   "display_name": "Python 3 (ipykernel)",
   "language": "python",
   "name": "python3"
  },
  "language_info": {
   "codemirror_mode": {
    "name": "ipython",
    "version": 3
   },
   "file_extension": ".py",
   "mimetype": "text/x-python",
   "name": "python",
   "nbconvert_exporter": "python",
   "pygments_lexer": "ipython3",
   "version": "3.11.9"
  }
 },
 "nbformat": 4,
 "nbformat_minor": 5
}
